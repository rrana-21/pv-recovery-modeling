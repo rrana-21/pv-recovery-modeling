{
 "cells": [
  {
   "cell_type": "code",
   "execution_count": 1,
   "id": "264c4628",
   "metadata": {},
   "outputs": [
    {
     "name": "stderr",
     "output_type": "stream",
     "text": [
      "C:\\Users\\loolz\\AppData\\Local\\Temp\\ipykernel_3272\\1984628586.py:6: DtypeWarning: Columns (8,9,16,17) have mixed types. Specify dtype option on import or set low_memory=False.\n",
      "  df = pd.read_csv(\"../Data/PV_data_clean.csv\")\n"
     ]
    }
   ],
   "source": [
    "import pandas as pd\n",
    "\n",
    "readings_summary  = pd.read_csv(\"readings_summary_raw.csv\")\n",
    "stations_to_keep = readings_summary[readings_summary['Percentage of Month (%)']>84.99]['randid'].unique().tolist()\n",
    "\n",
    "df = pd.read_csv(\"../Data/PV_data_clean.csv\")\n",
    "df = df[df['randid'].isin(stations_to_keep)]\n",
    "\n",
    "df[\"solar_power_plant\"] = df[\"NOAAClimRegion\"] + \"_\" + df[\"TempZone\"] + \"_\" + df[\"HumidZone\"] + \"_\" + df[\"bin_PlantSize_kW\"].apply(lambda x: x[0])\n",
    "pca_vals = pd.read_csv(\"../Data/solar_plant_pca_values.csv\")\n",
    "\n",
    "df_with_pca = df.merge(pca_vals, on='solar_power_plant', how='left')\n",
    "df_no_pca = df.copy()"
   ]
  },
  {
   "cell_type": "code",
   "execution_count": null,
   "id": "d3cc3d49",
   "metadata": {},
   "outputs": [],
   "source": [
    "# Tensorflow MLP (different intialisers, classification layer (last layer)"
   ]
  }
 ],
 "metadata": {
  "kernelspec": {
   "display_name": ".venv",
   "language": "python",
   "name": "python3"
  },
  "language_info": {
   "codemirror_mode": {
    "name": "ipython",
    "version": 3
   },
   "file_extension": ".py",
   "mimetype": "text/x-python",
   "name": "python",
   "nbconvert_exporter": "python",
   "pygments_lexer": "ipython3",
   "version": "3.9.13"
  }
 },
 "nbformat": 4,
 "nbformat_minor": 5
}
